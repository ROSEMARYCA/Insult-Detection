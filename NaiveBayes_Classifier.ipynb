{
 "cells": [
  {
   "cell_type": "markdown",
   "metadata": {},
   "source": [
    " # Load and Trainig the Test data"
   ]
  },
  {
   "cell_type": "code",
   "execution_count": 1,
   "metadata": {
    "collapsed": false
   },
   "outputs": [
    {
     "name": "stderr",
     "output_type": "stream",
     "text": [
      "[INFO] graphlab.cython.cy_server: GraphLab Create v2.1 started. Logging: /tmp/graphlab_server_1503108678.log\n"
     ]
    },
    {
     "name": "stdout",
     "output_type": "stream",
     "text": [
      "This non-commercial license of GraphLab Create for academic use is assigned to sbhat1@scu.edu and will expire on August 12, 2018.\n"
     ]
    }
   ],
   "source": [
    "\n",
    "import graphlab as gl\n",
    "test_data = gl.SFrame.read_csv(\"/Users/swastika.b/Documents/Swastika/SantaClaraEdu/courses/Machine Learning/Project/FinalCode/train.csv\",verbose= False)\n",
    "data = gl.SFrame.read_csv(\"/Users/swastika.b/Documents/Swastika/SantaClaraEdu/courses/Machine Learning/Project/FinalCode/training_data.csv\",verbose= False)"
   ]
  },
  {
   "cell_type": "markdown",
   "metadata": {},
   "source": [
    "# Preprocessing Data"
   ]
  },
  {
   "cell_type": "code",
   "execution_count": 2,
   "metadata": {
    "collapsed": true
   },
   "outputs": [],
   "source": [
    "def transform_text(text):\n",
    "    \n",
    "    import re\n",
    "    import string\n",
    "    from nltk.tokenize import word_tokenize\n",
    "    from nltk.corpus import stopwords\n",
    "    from nltk.stem.porter import PorterStemmer\n",
    "    \n",
    "    regex = re.compile('[%s]' % re.escape(string.punctuation))\n",
    "    porter = PorterStemmer()\n",
    "    \n",
    "    lower_case_text = text.translate(None, string.punctuation).lower()\n",
    "    words_list = word_tokenize(lower_case_text)\n",
    "    text2 = []\n",
    "    for word in words_list:\n",
    "        text0 = word.decode('ascii', 'ignore')\n",
    "        text1 = regex.sub(u'', text0)\n",
    "        if not text1 == u'':\n",
    "            if not text1 in stopwords.words('english'):\n",
    "                text2.append(porter.stem(text1))\n",
    "    return text2\n",
    "    \n",
    "\n",
    "data['comment_clean'] = data['Comment'].apply(transform_text)"
   ]
  },
  {
   "cell_type": "code",
   "execution_count": 3,
   "metadata": {
    "collapsed": false
   },
   "outputs": [],
   "source": [
    "def create_text(words):\n",
    "    return ' '.join(words)\n",
    "\n",
    "data['comment_string'] = data['comment_clean'].apply(create_text)\n",
    "\n",
    "def remove_punctuation(text):\n",
    "    import string\n",
    "    lower_case_text = text.translate(None, string.punctuation).lower()\n",
    "    return lower_case_text\n",
    "    \n",
    "#data['comment_string'] = data['Comment'].apply(remove_punctuation)"
   ]
  },
  {
   "cell_type": "markdown",
   "metadata": {},
   "source": [
    "# Train the Data"
   ]
  },
  {
   "cell_type": "code",
   "execution_count": 4,
   "metadata": {
    "collapsed": false
   },
   "outputs": [],
   "source": [
    "from sklearn.feature_extraction.text import CountVectorizer\n",
    "from sklearn.naive_bayes import MultinomialNB\n",
    "from sklearn.feature_extraction.text import TfidfTransformer\n",
    "\n",
    "def split_into_lemmas(comments):\n",
    "    bigram_vectorizer = CountVectorizer(ngram_range=(1, 1), token_pattern=r'\\b\\w+\\b', min_df=1)\n",
    "    analyze = bigram_vectorizer.build_analyzer()\n",
    "    return analyze(comments)\n",
    "\n",
    "vectorizer = CountVectorizer(analyzer=split_into_lemmas,stop_words='english',strip_accents='ascii').fit(data['comment_string'])\n",
    "text_transformed = vectorizer.transform(data['comment_string'])\n",
    "tfidf_transformer = TfidfTransformer().fit(text_transformed)\n",
    "tfidf_transformed_text = tfidf_transformer.transform(text_transformed)\n",
    "\n"
   ]
  },
  {
   "cell_type": "code",
   "execution_count": 5,
   "metadata": {
    "collapsed": false
   },
   "outputs": [
    {
     "data": {
      "text/plain": [
       "MultinomialNB(alpha=1.0, class_prior=[0.5, 0.5], fit_prior=True)"
      ]
     },
     "execution_count": 5,
     "metadata": {},
     "output_type": "execute_result"
    }
   ],
   "source": [
    "classifier_nb = MultinomialNB(class_prior=[0.50, 0.50]).fit(tfidf_transformed_text, data['Insult'])\n",
    "classifier_nb.fit(tfidf_transformed_text,data['Insult'])\n"
   ]
  },
  {
   "cell_type": "markdown",
   "metadata": {},
   "source": [
    "# K- Fold Cross Validation"
   ]
  },
  {
   "cell_type": "code",
   "execution_count": 6,
   "metadata": {
    "collapsed": false
   },
   "outputs": [
    {
     "name": "stderr",
     "output_type": "stream",
     "text": [
      "/Users/swastika.b/Documents/Softwares/anaconda/envs/gl-env/lib/python2.7/site-packages/sklearn/cross_validation.py:41: DeprecationWarning: This module was deprecated in version 0.18 in favor of the model_selection module into which all the refactored classes and functions are moved. Also note that the interface of the new CV iterators are different from that of this module. This module will be removed in 0.20.\n",
      "  \"This module will be removed in 0.20.\", DeprecationWarning)\n"
     ]
    },
    {
     "data": {
      "text/plain": [
       "0.69753914988814314"
      ]
     },
     "execution_count": 6,
     "metadata": {},
     "output_type": "execute_result"
    }
   ],
   "source": [
    "from sklearn.cross_validation import cross_val_predict\n",
    "from sklearn import metrics\n",
    "import numpy as np\n",
    "y = (data['Insult']).to_numpy()\n",
    "predicted = cross_val_predict(classifier_nb, tfidf_transformed_text, y, cv=10)\n",
    "metrics.accuracy_score(y, predicted) "
   ]
  },
  {
   "cell_type": "markdown",
   "metadata": {},
   "source": [
    "# Evaluation on Test data"
   ]
  },
  {
   "cell_type": "code",
   "execution_count": 7,
   "metadata": {
    "collapsed": true
   },
   "outputs": [],
   "source": [
    "test_data['comment_clean'] = test_data['Comment'].apply(transform_text)\n",
    "test_data['comment_string'] = test_data['comment_clean'].apply(create_text)\n",
    "#test_data['comment_string'] = test_data['Comment'].apply(remove_punctuation)"
   ]
  },
  {
   "cell_type": "code",
   "execution_count": 8,
   "metadata": {
    "collapsed": false
   },
   "outputs": [],
   "source": [
    "test_text_transformed = vectorizer.transform(test_data['comment_string'])\n",
    "tfidf_transformed_test_text = tfidf_transformer.transform(test_text_transformed)\n",
    "predicted_class = classifier_nb.predict(tfidf_transformed_test_text)"
   ]
  },
  {
   "cell_type": "code",
   "execution_count": 9,
   "metadata": {
    "collapsed": false
   },
   "outputs": [
    {
     "data": {
      "text/plain": [
       "0.63060552318216367"
      ]
     },
     "execution_count": 9,
     "metadata": {},
     "output_type": "execute_result"
    }
   ],
   "source": [
    "import numpy as np\n",
    "true_class = np.array(test_data['Insult'])\n",
    "from sklearn.metrics import accuracy_score\n",
    "accuracy_score(true_class, predicted_class)"
   ]
  },
  {
   "cell_type": "markdown",
   "metadata": {},
   "source": [
    "# Test on Sample Data"
   ]
  },
  {
   "cell_type": "code",
   "execution_count": 10,
   "metadata": {
    "collapsed": false
   },
   "outputs": [
    {
     "data": {
      "text/html": [
       "<div style=\"max-height:1000px;max-width:1500px;overflow:auto;\"><table frame=\"box\" rules=\"cols\">\n",
       "    <tr>\n",
       "        <th style=\"padding-left: 1em; padding-right: 1em; text-align: center\">Insult</th>\n",
       "        <th style=\"padding-left: 1em; padding-right: 1em; text-align: center\">Comment</th>\n",
       "        <th style=\"padding-left: 1em; padding-right: 1em; text-align: center\">comment_string</th>\n",
       "    </tr>\n",
       "    <tr>\n",
       "        <td style=\"padding-left: 1em; padding-right: 1em; text-align: center; vertical-align: top\">0</td>\n",
       "        <td style=\"padding-left: 1em; padding-right: 1em; text-align: center; vertical-align: top\">\"russellpiano\\xa0\\nHmmmm.<br>..how can we spin Obama ...</td>\n",
       "        <td style=\"padding-left: 1em; padding-right: 1em; text-align: center; vertical-align: top\">russellpianoxa0 hmmmmhow<br>spin obama honor vietnam ...</td>\n",
       "    </tr>\n",
       "    <tr>\n",
       "        <td style=\"padding-left: 1em; padding-right: 1em; text-align: center; vertical-align: top\">0</td>\n",
       "        <td style=\"padding-left: 1em; padding-right: 1em; text-align: center; vertical-align: top\">\"A good article, which,<br>for all the good it will ...</td>\n",
       "        <td style=\"padding-left: 1em; padding-right: 1em; text-align: center; vertical-align: top\">good articl good could<br>deliv brick wall ...</td>\n",
       "    </tr>\n",
       "    <tr>\n",
       "        <td style=\"padding-left: 1em; padding-right: 1em; text-align: center; vertical-align: top\">0</td>\n",
       "        <td style=\"padding-left: 1em; padding-right: 1em; text-align: center; vertical-align: top\">\"Head's up<br>warning...another source ...</td>\n",
       "        <td style=\"padding-left: 1em; padding-right: 1em; text-align: center; vertical-align: top\">head warninganoth sourc<br>fund media matter peter ...</td>\n",
       "    </tr>\n",
       "    <tr>\n",
       "        <td style=\"padding-left: 1em; padding-right: 1em; text-align: center; vertical-align: top\">0</td>\n",
       "        <td style=\"padding-left: 1em; padding-right: 1em; text-align: center; vertical-align: top\">\"@sdnoriko LOL as if<br>Capcom listens. Watch ...</td>\n",
       "        <td style=\"padding-left: 1em; padding-right: 1em; text-align: center; vertical-align: top\">sdnoriko lol capcom<br>listen watch fuck hope ...</td>\n",
       "    </tr>\n",
       "    <tr>\n",
       "        <td style=\"padding-left: 1em; padding-right: 1em; text-align: center; vertical-align: top\">1</td>\n",
       "        <td style=\"padding-left: 1em; padding-right: 1em; text-align: center; vertical-align: top\">\"Allinit123,<br>your\\xa0hypocrisy\\xa0is ...</td>\n",
       "        <td style=\"padding-left: 1em; padding-right: 1em; text-align: center; vertical-align: top\">allinit123<br>yourxa0hypocrisyxa0i ...</td>\n",
       "    </tr>\n",
       "</table>\n",
       "[5 rows x 3 columns]<br/>\n",
       "</div>"
      ],
      "text/plain": [
       "Columns:\n",
       "\tInsult\tint\n",
       "\tComment\tstr\n",
       "\tcomment_string\tstr\n",
       "\n",
       "Rows: 5\n",
       "\n",
       "Data:\n",
       "+--------+-------------------------------+-------------------------------+\n",
       "| Insult |            Comment            |         comment_string        |\n",
       "+--------+-------------------------------+-------------------------------+\n",
       "|   0    | \"russellpiano\\xa0\\nHmmmm..... | russellpianoxa0 hmmmmhow s... |\n",
       "|   0    | \"A good article, which, fo... | good articl good could del... |\n",
       "|   0    | \"Head's up warning...anoth... | head warninganoth sourc fu... |\n",
       "|   0    | \"@sdnoriko LOL as if Capco... | sdnoriko lol capcom listen... |\n",
       "|   1    | \"Allinit123, your\\xa0hypoc... | allinit123 yourxa0hypocris... |\n",
       "+--------+-------------------------------+-------------------------------+\n",
       "[5 rows x 3 columns]"
      ]
     },
     "execution_count": 10,
     "metadata": {},
     "output_type": "execute_result"
    }
   ],
   "source": [
    "sample_test_data = test_data[30:35]\n",
    "sample_test_data.select_columns(['Insult','Comment','comment_string'])"
   ]
  },
  {
   "cell_type": "code",
   "execution_count": 11,
   "metadata": {
    "collapsed": false
   },
   "outputs": [
    {
     "data": {
      "text/plain": [
       "dtype: str\n",
       "Rows: 5\n",
       "['russellpianoxa0 hmmmmhow spin obama honor vietnam troop someth negativeansw doesnt matter look follow theyll take anyth obama team xa0hmmm make liber messiah look better light revel leak classifi inform new york timesi know let bogu photo shoot viet nam memori make obama look like care vet first well clear vet immedi area cant trust', 'good articl good could deliv brick wall', 'head warninganoth sourc fund media matter peter lewi progess insur compani know auto insur commerci run everi 5 minut cabl televis featur gal look like blowup doll red lip andxc2xa0a perfectli round mouthif know meannif progressivexc2xa0auto insur know part premium go fund progress liberalxc2xa0organ hell bentxc2xa0on destroyingxc2xa0our countri free speech mission toxc2xa0br downxc2xa0hannitybeckdobbslavinlimbaughboortzetc must let win', 'sdnoriko lol capcom listen watch fuck hope wrong love okami', 'allinit123 yourxa0hypocrisyxa0i sicken ignor loser']"
      ]
     },
     "execution_count": 11,
     "metadata": {},
     "output_type": "execute_result"
    }
   ],
   "source": [
    "sample_test_data['comment_string']"
   ]
  },
  {
   "cell_type": "code",
   "execution_count": 12,
   "metadata": {
    "collapsed": false
   },
   "outputs": [
    {
     "data": {
      "text/plain": [
       "array([0, 0, 0, 0, 1])"
      ]
     },
     "execution_count": 12,
     "metadata": {},
     "output_type": "execute_result"
    }
   ],
   "source": [
    "sample_text_transformed = vectorizer.transform(sample_test_data['comment_string'])\n",
    "tfidf_transformed_sample_text = tfidf_transformer.transform(sample_text_transformed)\n",
    "predicted_class = classifier_nb.predict(tfidf_transformed_sample_text)\n",
    "classifier_nb.predict(tfidf_transformed_sample_text)"
   ]
  }
 ],
 "metadata": {
  "kernelspec": {
   "display_name": "Python 2",
   "language": "python",
   "name": "python2"
  },
  "language_info": {
   "codemirror_mode": {
    "name": "ipython",
    "version": 2
   },
   "file_extension": ".py",
   "mimetype": "text/x-python",
   "name": "python",
   "nbconvert_exporter": "python",
   "pygments_lexer": "ipython2",
   "version": "2.7.11"
  }
 },
 "nbformat": 4,
 "nbformat_minor": 0
}
