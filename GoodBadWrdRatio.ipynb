{
 "cells": [
  {
   "cell_type": "markdown",
   "metadata": {},
   "source": [
    "# bad word ratio and good word ratio"
   ]
  },
  {
   "cell_type": "code",
   "execution_count": 1,
   "metadata": {
    "collapsed": false
   },
   "outputs": [
    {
     "name": "stderr",
     "output_type": "stream",
     "text": [
      "[INFO] graphlab.cython.cy_server: GraphLab Create v2.1 started. Logging: /tmp/graphlab_server_1503507268.log\n"
     ]
    },
    {
     "name": "stdout",
     "output_type": "stream",
     "text": [
      "This non-commercial license of GraphLab Create for academic use is assigned to sbhat1@scu.edu and will expire on August 12, 2018.\n",
      "2235\n"
     ]
    }
   ],
   "source": [
    "import nltk\n",
    "import graphlab as gl\n",
    "data = gl.SFrame.read_csv(\"/Users/swastika.b/Documents/Swastika/SantaClaraEdu/courses/Machine Learning/Project/FinalCode/training_data.csv\", verbose = False)\n",
    "print len(data)"
   ]
  },
  {
   "cell_type": "markdown",
   "metadata": {},
   "source": [
    "# Preprocessing data"
   ]
  },
  {
   "cell_type": "code",
   "execution_count": 2,
   "metadata": {
    "collapsed": false
   },
   "outputs": [],
   "source": [
    "def transform_text(text):\n",
    "    \n",
    "    import re\n",
    "    import string\n",
    "    from nltk.tokenize import word_tokenize\n",
    "    from nltk.corpus import stopwords\n",
    "    from nltk.stem.porter import PorterStemmer\n",
    "    \n",
    "    regex = re.compile('[%s]' % re.escape(string.punctuation))\n",
    "    porter = PorterStemmer()\n",
    "    \n",
    "    lower_case_text = text.translate(None, string.punctuation).lower()\n",
    "    words_list = word_tokenize(lower_case_text)\n",
    "    text2 = []\n",
    "    for word in words_list:\n",
    "        text0 = word.decode('ascii', 'ignore')\n",
    "        text1 = regex.sub(u'', text0)\n",
    "        if not text1 == u'':\n",
    "            if not text1 in stopwords.words('english'):\n",
    "                text2.append(porter.stem(text1))\n",
    "    return text2\n",
    "    \n",
    "\n",
    "data['comment_clean'] = data['Comment'].apply(transform_text)\n",
    "\n"
   ]
  },
  {
   "cell_type": "markdown",
   "metadata": {},
   "source": [
    "# Load Good and Bad words"
   ]
  },
  {
   "cell_type": "code",
   "execution_count": 3,
   "metadata": {
    "collapsed": false
   },
   "outputs": [
    {
     "name": "stdout",
     "output_type": "stream",
     "text": [
      "478\n"
     ]
    }
   ],
   "source": [
    "bad_words = []\n",
    "file = open('my_badlist3.txt', 'r') \n",
    "bad_words = file.readlines()\n",
    "bad_words = [x.strip() for x in bad_words]\n",
    "print len(bad_words)"
   ]
  },
  {
   "cell_type": "code",
   "execution_count": 4,
   "metadata": {
    "collapsed": false
   },
   "outputs": [
    {
     "name": "stdout",
     "output_type": "stream",
     "text": [
      "1482\n"
     ]
    }
   ],
   "source": [
    "good_words = []\n",
    "file = open('strong_pos.txt', 'r') \n",
    "good_words = file.readlines()\n",
    "good_words = [x.strip() for x in good_words]\n",
    "print len(good_words)"
   ]
  },
  {
   "cell_type": "markdown",
   "metadata": {},
   "source": [
    "# Calculate ratio of bad words and ratio of good words"
   ]
  },
  {
   "cell_type": "code",
   "execution_count": 5,
   "metadata": {
    "collapsed": false
   },
   "outputs": [
    {
     "data": {
      "text/html": [
       "<div style=\"max-height:1000px;max-width:1500px;overflow:auto;\"><table frame=\"box\" rules=\"cols\">\n",
       "    <tr>\n",
       "        <th style=\"padding-left: 1em; padding-right: 1em; text-align: center\">id</th>\n",
       "        <th style=\"padding-left: 1em; padding-right: 1em; text-align: center\">Insult</th>\n",
       "        <th style=\"padding-left: 1em; padding-right: 1em; text-align: center\">Date</th>\n",
       "        <th style=\"padding-left: 1em; padding-right: 1em; text-align: center\">Comment</th>\n",
       "        <th style=\"padding-left: 1em; padding-right: 1em; text-align: center\">Usage</th>\n",
       "        <th style=\"padding-left: 1em; padding-right: 1em; text-align: center\">comment_clean</th>\n",
       "    </tr>\n",
       "    <tr>\n",
       "        <td style=\"padding-left: 1em; padding-right: 1em; text-align: center; vertical-align: top\">1</td>\n",
       "        <td style=\"padding-left: 1em; padding-right: 1em; text-align: center; vertical-align: top\">0</td>\n",
       "        <td style=\"padding-left: 1em; padding-right: 1em; text-align: center; vertical-align: top\">20120603163526Z</td>\n",
       "        <td style=\"padding-left: 1em; padding-right: 1em; text-align: center; vertical-align: top\">\"like this if you are a<br>tribe fan\" ...</td>\n",
       "        <td style=\"padding-left: 1em; padding-right: 1em; text-align: center; vertical-align: top\">PrivateTest</td>\n",
       "        <td style=\"padding-left: 1em; padding-right: 1em; text-align: center; vertical-align: top\">[like, tribe, fan]</td>\n",
       "    </tr>\n",
       "    <tr>\n",
       "        <td style=\"padding-left: 1em; padding-right: 1em; text-align: center; vertical-align: top\">2</td>\n",
       "        <td style=\"padding-left: 1em; padding-right: 1em; text-align: center; vertical-align: top\">1</td>\n",
       "        <td style=\"padding-left: 1em; padding-right: 1em; text-align: center; vertical-align: top\">20120531215447Z</td>\n",
       "        <td style=\"padding-left: 1em; padding-right: 1em; text-align: center; vertical-align: top\">\"you're idiot............<br>...........\" ...</td>\n",
       "        <td style=\"padding-left: 1em; padding-right: 1em; text-align: center; vertical-align: top\">PrivateTest</td>\n",
       "        <td style=\"padding-left: 1em; padding-right: 1em; text-align: center; vertical-align: top\">[your, idiot]</td>\n",
       "    </tr>\n",
       "    <tr>\n",
       "        <td style=\"padding-left: 1em; padding-right: 1em; text-align: center; vertical-align: top\">3</td>\n",
       "        <td style=\"padding-left: 1em; padding-right: 1em; text-align: center; vertical-align: top\">1</td>\n",
       "        <td style=\"padding-left: 1em; padding-right: 1em; text-align: center; vertical-align: top\">20120823164228Z</td>\n",
       "        <td style=\"padding-left: 1em; padding-right: 1em; text-align: center; vertical-align: top\">\"I am a woman Babs, and<br>the only \"war on wome ...</td>\n",
       "        <td style=\"padding-left: 1em; padding-right: 1em; text-align: center; vertical-align: top\">PrivateTest</td>\n",
       "        <td style=\"padding-left: 1em; padding-right: 1em; text-align: center; vertical-align: top\">[woman, bab, war, women,<br>see, come, jackazz, l ...</td>\n",
       "    </tr>\n",
       "    <tr>\n",
       "        <td style=\"padding-left: 1em; padding-right: 1em; text-align: center; vertical-align: top\">4</td>\n",
       "        <td style=\"padding-left: 1em; padding-right: 1em; text-align: center; vertical-align: top\">1</td>\n",
       "        <td style=\"padding-left: 1em; padding-right: 1em; text-align: center; vertical-align: top\">20120826010752Z</td>\n",
       "        <td style=\"padding-left: 1em; padding-right: 1em; text-align: center; vertical-align: top\">\"WOW &amp; YOU BENEFITTED SO<br>MANY WINS THIS YEAR FROM ...</td>\n",
       "        <td style=\"padding-left: 1em; padding-right: 1em; text-align: center; vertical-align: top\">PrivateTest</td>\n",
       "        <td style=\"padding-left: 1em; padding-right: 1em; text-align: center; vertical-align: top\">[wow, benefit, mani, win,<br>year, bat, nice, stupid] ...</td>\n",
       "    </tr>\n",
       "    <tr>\n",
       "        <td style=\"padding-left: 1em; padding-right: 1em; text-align: center; vertical-align: top\">5</td>\n",
       "        <td style=\"padding-left: 1em; padding-right: 1em; text-align: center; vertical-align: top\">1</td>\n",
       "        <td style=\"padding-left: 1em; padding-right: 1em; text-align: center; vertical-align: top\">20120602223825Z</td>\n",
       "        <td style=\"padding-left: 1em; padding-right: 1em; text-align: center; vertical-align: top\">\"haha green me red you<br>now loser whos winning ...</td>\n",
       "        <td style=\"padding-left: 1em; padding-right: 1em; text-align: center; vertical-align: top\">PrivateTest</td>\n",
       "        <td style=\"padding-left: 1em; padding-right: 1em; text-align: center; vertical-align: top\">[haha, green, red, loser,<br>who, win, moron] ...</td>\n",
       "    </tr>\n",
       "    <tr>\n",
       "        <td style=\"padding-left: 1em; padding-right: 1em; text-align: center; vertical-align: top\">6</td>\n",
       "        <td style=\"padding-left: 1em; padding-right: 1em; text-align: center; vertical-align: top\">0</td>\n",
       "        <td style=\"padding-left: 1em; padding-right: 1em; text-align: center; vertical-align: top\">20120603202442Z</td>\n",
       "        <td style=\"padding-left: 1em; padding-right: 1em; text-align: center; vertical-align: top\">\"\\nMe and God both hate-<br>faggots.\\n\\nWhat's the ...</td>\n",
       "        <td style=\"padding-left: 1em; padding-right: 1em; text-align: center; vertical-align: top\">PrivateTest</td>\n",
       "        <td style=\"padding-left: 1em; padding-right: 1em; text-align: center; vertical-align: top\">[god, hatefaggot, what,<br>differ, afagand, ...</td>\n",
       "    </tr>\n",
       "    <tr>\n",
       "        <td style=\"padding-left: 1em; padding-right: 1em; text-align: center; vertical-align: top\">7</td>\n",
       "        <td style=\"padding-left: 1em; padding-right: 1em; text-align: center; vertical-align: top\">1</td>\n",
       "        <td style=\"padding-left: 1em; padding-right: 1em; text-align: center; vertical-align: top\">20120603163604Z</td>\n",
       "        <td style=\"padding-left: 1em; padding-right: 1em; text-align: center; vertical-align: top\">\"Oh go kiss the ass of a<br>goat....and you ...</td>\n",
       "        <td style=\"padding-left: 1em; padding-right: 1em; text-align: center; vertical-align: top\">PrivateTest</td>\n",
       "        <td style=\"padding-left: 1em; padding-right: 1em; text-align: center; vertical-align: top\">[oh, go, kiss, ass,<br>goatand, dummycrap, ...</td>\n",
       "    </tr>\n",
       "    <tr>\n",
       "        <td style=\"padding-left: 1em; padding-right: 1em; text-align: center; vertical-align: top\">8</td>\n",
       "        <td style=\"padding-left: 1em; padding-right: 1em; text-align: center; vertical-align: top\">0</td>\n",
       "        <td style=\"padding-left: 1em; padding-right: 1em; text-align: center; vertical-align: top\">20120602223902Z</td>\n",
       "        <td style=\"padding-left: 1em; padding-right: 1em; text-align: center; vertical-align: top\">\"Not a chance Kid, you're<br>wrong.\" ...</td>\n",
       "        <td style=\"padding-left: 1em; padding-right: 1em; text-align: center; vertical-align: top\">PrivateTest</td>\n",
       "        <td style=\"padding-left: 1em; padding-right: 1em; text-align: center; vertical-align: top\">[chanc, kid, your, wrong]</td>\n",
       "    </tr>\n",
       "    <tr>\n",
       "        <td style=\"padding-left: 1em; padding-right: 1em; text-align: center; vertical-align: top\">9</td>\n",
       "        <td style=\"padding-left: 1em; padding-right: 1em; text-align: center; vertical-align: top\">0</td>\n",
       "        <td style=\"padding-left: 1em; padding-right: 1em; text-align: center; vertical-align: top\">20120528064125Z</td>\n",
       "        <td style=\"padding-left: 1em; padding-right: 1em; text-align: center; vertical-align: top\">\"On Some real Shit FUck<br>LIVE JASMIN!!!\" ...</td>\n",
       "        <td style=\"padding-left: 1em; padding-right: 1em; text-align: center; vertical-align: top\">PrivateTest</td>\n",
       "        <td style=\"padding-left: 1em; padding-right: 1em; text-align: center; vertical-align: top\">[real, shit, fuck, live,<br>jasmin] ...</td>\n",
       "    </tr>\n",
       "    <tr>\n",
       "        <td style=\"padding-left: 1em; padding-right: 1em; text-align: center; vertical-align: top\">10</td>\n",
       "        <td style=\"padding-left: 1em; padding-right: 1em; text-align: center; vertical-align: top\">1</td>\n",
       "        <td style=\"padding-left: 1em; padding-right: 1em; text-align: center; vertical-align: top\">20120603071243Z</td>\n",
       "        <td style=\"padding-left: 1em; padding-right: 1em; text-align: center; vertical-align: top\">\"ok but where the hell<br>was it released?you all ...</td>\n",
       "        <td style=\"padding-left: 1em; padding-right: 1em; text-align: center; vertical-align: top\">PrivateTest</td>\n",
       "        <td style=\"padding-left: 1em; padding-right: 1em; text-align: center; vertical-align: top\">[ok, hell, releasedy,<br>copi, articl, pther, ...</td>\n",
       "    </tr>\n",
       "</table>\n",
       "<table frame=\"box\" rules=\"cols\">\n",
       "    <tr>\n",
       "        <th style=\"padding-left: 1em; padding-right: 1em; text-align: center\">bad_word_ratio</th>\n",
       "    </tr>\n",
       "    <tr>\n",
       "        <td style=\"padding-left: 1em; padding-right: 1em; text-align: center; vertical-align: top\">0.0</td>\n",
       "    </tr>\n",
       "    <tr>\n",
       "        <td style=\"padding-left: 1em; padding-right: 1em; text-align: center; vertical-align: top\">0.5</td>\n",
       "    </tr>\n",
       "    <tr>\n",
       "        <td style=\"padding-left: 1em; padding-right: 1em; text-align: center; vertical-align: top\">0.0</td>\n",
       "    </tr>\n",
       "    <tr>\n",
       "        <td style=\"padding-left: 1em; padding-right: 1em; text-align: center; vertical-align: top\">0.125</td>\n",
       "    </tr>\n",
       "    <tr>\n",
       "        <td style=\"padding-left: 1em; padding-right: 1em; text-align: center; vertical-align: top\">0.285714285714</td>\n",
       "    </tr>\n",
       "    <tr>\n",
       "        <td style=\"padding-left: 1em; padding-right: 1em; text-align: center; vertical-align: top\">0.0</td>\n",
       "    </tr>\n",
       "    <tr>\n",
       "        <td style=\"padding-left: 1em; padding-right: 1em; text-align: center; vertical-align: top\">0.0714285714286</td>\n",
       "    </tr>\n",
       "    <tr>\n",
       "        <td style=\"padding-left: 1em; padding-right: 1em; text-align: center; vertical-align: top\">0.0</td>\n",
       "    </tr>\n",
       "    <tr>\n",
       "        <td style=\"padding-left: 1em; padding-right: 1em; text-align: center; vertical-align: top\">0.2</td>\n",
       "    </tr>\n",
       "    <tr>\n",
       "        <td style=\"padding-left: 1em; padding-right: 1em; text-align: center; vertical-align: top\">0.0769230769231</td>\n",
       "    </tr>\n",
       "</table>\n",
       "[2235 rows x 7 columns]<br/>Note: Only the head of the SFrame is printed.<br/>You can use print_rows(num_rows=m, num_columns=n) to print more rows and columns.\n",
       "</div>"
      ],
      "text/plain": [
       "Columns:\n",
       "\tid\tint\n",
       "\tInsult\tint\n",
       "\tDate\tstr\n",
       "\tComment\tstr\n",
       "\tUsage\tstr\n",
       "\tcomment_clean\tlist\n",
       "\tbad_word_ratio\tfloat\n",
       "\n",
       "Rows: 2235\n",
       "\n",
       "Data:\n",
       "+----+--------+-----------------+-------------------------------+-------------+\n",
       "| id | Insult |       Date      |            Comment            |    Usage    |\n",
       "+----+--------+-----------------+-------------------------------+-------------+\n",
       "| 1  |   0    | 20120603163526Z | \"like this if you are a tr... | PrivateTest |\n",
       "| 2  |   1    | 20120531215447Z | \"you're idiot................ | PrivateTest |\n",
       "| 3  |   1    | 20120823164228Z | \"I am a woman Babs, and th... | PrivateTest |\n",
       "| 4  |   1    | 20120826010752Z | \"WOW & YOU BENEFITTED SO M... | PrivateTest |\n",
       "| 5  |   1    | 20120602223825Z | \"haha green me red you now... | PrivateTest |\n",
       "| 6  |   0    | 20120603202442Z | \"\\nMe and God both hate-fa... | PrivateTest |\n",
       "| 7  |   1    | 20120603163604Z | \"Oh go kiss the ass of a g... | PrivateTest |\n",
       "| 8  |   0    | 20120602223902Z | \"Not a chance Kid, you're ... | PrivateTest |\n",
       "| 9  |   0    | 20120528064125Z | \"On Some real Shit FUck LI... | PrivateTest |\n",
       "| 10 |   1    | 20120603071243Z | \"ok but where the hell was... | PrivateTest |\n",
       "+----+--------+-----------------+-------------------------------+-------------+\n",
       "+-------------------------------+-----------------+\n",
       "|         comment_clean         |  bad_word_ratio |\n",
       "+-------------------------------+-----------------+\n",
       "|       [like, tribe, fan]      |       0.0       |\n",
       "|         [your, idiot]         |       0.5       |\n",
       "| [woman, bab, war, women, s... |       0.0       |\n",
       "| [wow, benefit, mani, win, ... |      0.125      |\n",
       "| [haha, green, red, loser, ... |  0.285714285714 |\n",
       "| [god, hatefaggot, what, di... |       0.0       |\n",
       "| [oh, go, kiss, ass, goatan... | 0.0714285714286 |\n",
       "|   [chanc, kid, your, wrong]   |       0.0       |\n",
       "| [real, shit, fuck, live, j... |       0.2       |\n",
       "| [ok, hell, releasedy, copi... | 0.0769230769231 |\n",
       "+-------------------------------+-----------------+\n",
       "[2235 rows x 7 columns]\n",
       "Note: Only the head of the SFrame is printed.\n",
       "You can use print_rows(num_rows=m, num_columns=n) to print more rows and columns."
      ]
     },
     "execution_count": 5,
     "metadata": {},
     "output_type": "execute_result"
    }
   ],
   "source": [
    "#def calculate_goodNdbadWord_ratio(text):\n",
    "def calculate_bad_word_ratio(text):\n",
    "    #print text\n",
    "    num_words = len(text) if len(text) > 0 else 1\n",
    "    #print num_words\n",
    "    num_bad_words = 0\n",
    "    #num_good_words = 0\n",
    "    bad_wrd_ratio = 0\n",
    "    #good_wrd_ratio = 0\n",
    "    for word in text:\n",
    "        if word in bad_words:\n",
    "            num_bad_words += 1\n",
    "        #if word in good_words:\n",
    "            #num_good_words += 1\n",
    "    bad_wrd_ratio = float(num_bad_words)/float(num_words)\n",
    "    #good_wrd_ratio = float(num_good_words)/float(num_words)\n",
    "    #print num_bad_words\n",
    "    #ratio = [bad_wrd_ratio, good_wrd_ratio]\n",
    "    #print ratio\n",
    "    #return ratio\n",
    "    return bad_wrd_ratio\n",
    "\n",
    "data['bad_word_ratio'] = data['comment_clean'].apply(calculate_bad_word_ratio)\n",
    "#ratio = data['comment_clean'].apply(calculate_goodNdbadWord_ratio)\n",
    "#data['bad_word_ratio'] = ratio[0]\n",
    "#data['good_word_ratio'] = ratio[1]\n",
    "#print data[data['bad_word_ratio'] > 0]\n",
    "data"
   ]
  },
  {
   "cell_type": "code",
   "execution_count": 6,
   "metadata": {
    "collapsed": false
   },
   "outputs": [
    {
     "data": {
      "text/html": [
       "<div style=\"max-height:1000px;max-width:1500px;overflow:auto;\"><table frame=\"box\" rules=\"cols\">\n",
       "    <tr>\n",
       "        <th style=\"padding-left: 1em; padding-right: 1em; text-align: center\">id</th>\n",
       "        <th style=\"padding-left: 1em; padding-right: 1em; text-align: center\">Insult</th>\n",
       "        <th style=\"padding-left: 1em; padding-right: 1em; text-align: center\">Date</th>\n",
       "        <th style=\"padding-left: 1em; padding-right: 1em; text-align: center\">Comment</th>\n",
       "        <th style=\"padding-left: 1em; padding-right: 1em; text-align: center\">Usage</th>\n",
       "        <th style=\"padding-left: 1em; padding-right: 1em; text-align: center\">comment_clean</th>\n",
       "    </tr>\n",
       "    <tr>\n",
       "        <td style=\"padding-left: 1em; padding-right: 1em; text-align: center; vertical-align: top\">1</td>\n",
       "        <td style=\"padding-left: 1em; padding-right: 1em; text-align: center; vertical-align: top\">0</td>\n",
       "        <td style=\"padding-left: 1em; padding-right: 1em; text-align: center; vertical-align: top\">20120603163526Z</td>\n",
       "        <td style=\"padding-left: 1em; padding-right: 1em; text-align: center; vertical-align: top\">\"like this if you are a<br>tribe fan\" ...</td>\n",
       "        <td style=\"padding-left: 1em; padding-right: 1em; text-align: center; vertical-align: top\">PrivateTest</td>\n",
       "        <td style=\"padding-left: 1em; padding-right: 1em; text-align: center; vertical-align: top\">[like, tribe, fan]</td>\n",
       "    </tr>\n",
       "    <tr>\n",
       "        <td style=\"padding-left: 1em; padding-right: 1em; text-align: center; vertical-align: top\">2</td>\n",
       "        <td style=\"padding-left: 1em; padding-right: 1em; text-align: center; vertical-align: top\">1</td>\n",
       "        <td style=\"padding-left: 1em; padding-right: 1em; text-align: center; vertical-align: top\">20120531215447Z</td>\n",
       "        <td style=\"padding-left: 1em; padding-right: 1em; text-align: center; vertical-align: top\">\"you're idiot............<br>...........\" ...</td>\n",
       "        <td style=\"padding-left: 1em; padding-right: 1em; text-align: center; vertical-align: top\">PrivateTest</td>\n",
       "        <td style=\"padding-left: 1em; padding-right: 1em; text-align: center; vertical-align: top\">[your, idiot]</td>\n",
       "    </tr>\n",
       "    <tr>\n",
       "        <td style=\"padding-left: 1em; padding-right: 1em; text-align: center; vertical-align: top\">3</td>\n",
       "        <td style=\"padding-left: 1em; padding-right: 1em; text-align: center; vertical-align: top\">1</td>\n",
       "        <td style=\"padding-left: 1em; padding-right: 1em; text-align: center; vertical-align: top\">20120823164228Z</td>\n",
       "        <td style=\"padding-left: 1em; padding-right: 1em; text-align: center; vertical-align: top\">\"I am a woman Babs, and<br>the only \"war on wome ...</td>\n",
       "        <td style=\"padding-left: 1em; padding-right: 1em; text-align: center; vertical-align: top\">PrivateTest</td>\n",
       "        <td style=\"padding-left: 1em; padding-right: 1em; text-align: center; vertical-align: top\">[woman, bab, war, women,<br>see, come, jackazz, l ...</td>\n",
       "    </tr>\n",
       "    <tr>\n",
       "        <td style=\"padding-left: 1em; padding-right: 1em; text-align: center; vertical-align: top\">4</td>\n",
       "        <td style=\"padding-left: 1em; padding-right: 1em; text-align: center; vertical-align: top\">1</td>\n",
       "        <td style=\"padding-left: 1em; padding-right: 1em; text-align: center; vertical-align: top\">20120826010752Z</td>\n",
       "        <td style=\"padding-left: 1em; padding-right: 1em; text-align: center; vertical-align: top\">\"WOW &amp; YOU BENEFITTED SO<br>MANY WINS THIS YEAR FROM ...</td>\n",
       "        <td style=\"padding-left: 1em; padding-right: 1em; text-align: center; vertical-align: top\">PrivateTest</td>\n",
       "        <td style=\"padding-left: 1em; padding-right: 1em; text-align: center; vertical-align: top\">[wow, benefit, mani, win,<br>year, bat, nice, stupid] ...</td>\n",
       "    </tr>\n",
       "    <tr>\n",
       "        <td style=\"padding-left: 1em; padding-right: 1em; text-align: center; vertical-align: top\">5</td>\n",
       "        <td style=\"padding-left: 1em; padding-right: 1em; text-align: center; vertical-align: top\">1</td>\n",
       "        <td style=\"padding-left: 1em; padding-right: 1em; text-align: center; vertical-align: top\">20120602223825Z</td>\n",
       "        <td style=\"padding-left: 1em; padding-right: 1em; text-align: center; vertical-align: top\">\"haha green me red you<br>now loser whos winning ...</td>\n",
       "        <td style=\"padding-left: 1em; padding-right: 1em; text-align: center; vertical-align: top\">PrivateTest</td>\n",
       "        <td style=\"padding-left: 1em; padding-right: 1em; text-align: center; vertical-align: top\">[haha, green, red, loser,<br>who, win, moron] ...</td>\n",
       "    </tr>\n",
       "    <tr>\n",
       "        <td style=\"padding-left: 1em; padding-right: 1em; text-align: center; vertical-align: top\">6</td>\n",
       "        <td style=\"padding-left: 1em; padding-right: 1em; text-align: center; vertical-align: top\">0</td>\n",
       "        <td style=\"padding-left: 1em; padding-right: 1em; text-align: center; vertical-align: top\">20120603202442Z</td>\n",
       "        <td style=\"padding-left: 1em; padding-right: 1em; text-align: center; vertical-align: top\">\"\\nMe and God both hate-<br>faggots.\\n\\nWhat's the ...</td>\n",
       "        <td style=\"padding-left: 1em; padding-right: 1em; text-align: center; vertical-align: top\">PrivateTest</td>\n",
       "        <td style=\"padding-left: 1em; padding-right: 1em; text-align: center; vertical-align: top\">[god, hatefaggot, what,<br>differ, afagand, ...</td>\n",
       "    </tr>\n",
       "    <tr>\n",
       "        <td style=\"padding-left: 1em; padding-right: 1em; text-align: center; vertical-align: top\">7</td>\n",
       "        <td style=\"padding-left: 1em; padding-right: 1em; text-align: center; vertical-align: top\">1</td>\n",
       "        <td style=\"padding-left: 1em; padding-right: 1em; text-align: center; vertical-align: top\">20120603163604Z</td>\n",
       "        <td style=\"padding-left: 1em; padding-right: 1em; text-align: center; vertical-align: top\">\"Oh go kiss the ass of a<br>goat....and you ...</td>\n",
       "        <td style=\"padding-left: 1em; padding-right: 1em; text-align: center; vertical-align: top\">PrivateTest</td>\n",
       "        <td style=\"padding-left: 1em; padding-right: 1em; text-align: center; vertical-align: top\">[oh, go, kiss, ass,<br>goatand, dummycrap, ...</td>\n",
       "    </tr>\n",
       "    <tr>\n",
       "        <td style=\"padding-left: 1em; padding-right: 1em; text-align: center; vertical-align: top\">8</td>\n",
       "        <td style=\"padding-left: 1em; padding-right: 1em; text-align: center; vertical-align: top\">0</td>\n",
       "        <td style=\"padding-left: 1em; padding-right: 1em; text-align: center; vertical-align: top\">20120602223902Z</td>\n",
       "        <td style=\"padding-left: 1em; padding-right: 1em; text-align: center; vertical-align: top\">\"Not a chance Kid, you're<br>wrong.\" ...</td>\n",
       "        <td style=\"padding-left: 1em; padding-right: 1em; text-align: center; vertical-align: top\">PrivateTest</td>\n",
       "        <td style=\"padding-left: 1em; padding-right: 1em; text-align: center; vertical-align: top\">[chanc, kid, your, wrong]</td>\n",
       "    </tr>\n",
       "    <tr>\n",
       "        <td style=\"padding-left: 1em; padding-right: 1em; text-align: center; vertical-align: top\">9</td>\n",
       "        <td style=\"padding-left: 1em; padding-right: 1em; text-align: center; vertical-align: top\">0</td>\n",
       "        <td style=\"padding-left: 1em; padding-right: 1em; text-align: center; vertical-align: top\">20120528064125Z</td>\n",
       "        <td style=\"padding-left: 1em; padding-right: 1em; text-align: center; vertical-align: top\">\"On Some real Shit FUck<br>LIVE JASMIN!!!\" ...</td>\n",
       "        <td style=\"padding-left: 1em; padding-right: 1em; text-align: center; vertical-align: top\">PrivateTest</td>\n",
       "        <td style=\"padding-left: 1em; padding-right: 1em; text-align: center; vertical-align: top\">[real, shit, fuck, live,<br>jasmin] ...</td>\n",
       "    </tr>\n",
       "    <tr>\n",
       "        <td style=\"padding-left: 1em; padding-right: 1em; text-align: center; vertical-align: top\">10</td>\n",
       "        <td style=\"padding-left: 1em; padding-right: 1em; text-align: center; vertical-align: top\">1</td>\n",
       "        <td style=\"padding-left: 1em; padding-right: 1em; text-align: center; vertical-align: top\">20120603071243Z</td>\n",
       "        <td style=\"padding-left: 1em; padding-right: 1em; text-align: center; vertical-align: top\">\"ok but where the hell<br>was it released?you all ...</td>\n",
       "        <td style=\"padding-left: 1em; padding-right: 1em; text-align: center; vertical-align: top\">PrivateTest</td>\n",
       "        <td style=\"padding-left: 1em; padding-right: 1em; text-align: center; vertical-align: top\">[ok, hell, releasedy,<br>copi, articl, pther, ...</td>\n",
       "    </tr>\n",
       "</table>\n",
       "<table frame=\"box\" rules=\"cols\">\n",
       "    <tr>\n",
       "        <th style=\"padding-left: 1em; padding-right: 1em; text-align: center\">bad_word_ratio</th>\n",
       "        <th style=\"padding-left: 1em; padding-right: 1em; text-align: center\">good_word_ratio</th>\n",
       "    </tr>\n",
       "    <tr>\n",
       "        <td style=\"padding-left: 1em; padding-right: 1em; text-align: center; vertical-align: top\">0.0</td>\n",
       "        <td style=\"padding-left: 1em; padding-right: 1em; text-align: center; vertical-align: top\">0.333333333333</td>\n",
       "    </tr>\n",
       "    <tr>\n",
       "        <td style=\"padding-left: 1em; padding-right: 1em; text-align: center; vertical-align: top\">0.5</td>\n",
       "        <td style=\"padding-left: 1em; padding-right: 1em; text-align: center; vertical-align: top\">0.0</td>\n",
       "    </tr>\n",
       "    <tr>\n",
       "        <td style=\"padding-left: 1em; padding-right: 1em; text-align: center; vertical-align: top\">0.0</td>\n",
       "        <td style=\"padding-left: 1em; padding-right: 1em; text-align: center; vertical-align: top\">0.111111111111</td>\n",
       "    </tr>\n",
       "    <tr>\n",
       "        <td style=\"padding-left: 1em; padding-right: 1em; text-align: center; vertical-align: top\">0.125</td>\n",
       "        <td style=\"padding-left: 1em; padding-right: 1em; text-align: center; vertical-align: top\">0.25</td>\n",
       "    </tr>\n",
       "    <tr>\n",
       "        <td style=\"padding-left: 1em; padding-right: 1em; text-align: center; vertical-align: top\">0.285714285714</td>\n",
       "        <td style=\"padding-left: 1em; padding-right: 1em; text-align: center; vertical-align: top\">0.0</td>\n",
       "    </tr>\n",
       "    <tr>\n",
       "        <td style=\"padding-left: 1em; padding-right: 1em; text-align: center; vertical-align: top\">0.0</td>\n",
       "        <td style=\"padding-left: 1em; padding-right: 1em; text-align: center; vertical-align: top\">0.0</td>\n",
       "    </tr>\n",
       "    <tr>\n",
       "        <td style=\"padding-left: 1em; padding-right: 1em; text-align: center; vertical-align: top\">0.0714285714286</td>\n",
       "        <td style=\"padding-left: 1em; padding-right: 1em; text-align: center; vertical-align: top\">0.0</td>\n",
       "    </tr>\n",
       "    <tr>\n",
       "        <td style=\"padding-left: 1em; padding-right: 1em; text-align: center; vertical-align: top\">0.0</td>\n",
       "        <td style=\"padding-left: 1em; padding-right: 1em; text-align: center; vertical-align: top\">0.25</td>\n",
       "    </tr>\n",
       "    <tr>\n",
       "        <td style=\"padding-left: 1em; padding-right: 1em; text-align: center; vertical-align: top\">0.2</td>\n",
       "        <td style=\"padding-left: 1em; padding-right: 1em; text-align: center; vertical-align: top\">0.0</td>\n",
       "    </tr>\n",
       "    <tr>\n",
       "        <td style=\"padding-left: 1em; padding-right: 1em; text-align: center; vertical-align: top\">0.0769230769231</td>\n",
       "        <td style=\"padding-left: 1em; padding-right: 1em; text-align: center; vertical-align: top\">0.0</td>\n",
       "    </tr>\n",
       "</table>\n",
       "[2235 rows x 8 columns]<br/>Note: Only the head of the SFrame is printed.<br/>You can use print_rows(num_rows=m, num_columns=n) to print more rows and columns.\n",
       "</div>"
      ],
      "text/plain": [
       "Columns:\n",
       "\tid\tint\n",
       "\tInsult\tint\n",
       "\tDate\tstr\n",
       "\tComment\tstr\n",
       "\tUsage\tstr\n",
       "\tcomment_clean\tlist\n",
       "\tbad_word_ratio\tfloat\n",
       "\tgood_word_ratio\tfloat\n",
       "\n",
       "Rows: 2235\n",
       "\n",
       "Data:\n",
       "+----+--------+-----------------+-------------------------------+-------------+\n",
       "| id | Insult |       Date      |            Comment            |    Usage    |\n",
       "+----+--------+-----------------+-------------------------------+-------------+\n",
       "| 1  |   0    | 20120603163526Z | \"like this if you are a tr... | PrivateTest |\n",
       "| 2  |   1    | 20120531215447Z | \"you're idiot................ | PrivateTest |\n",
       "| 3  |   1    | 20120823164228Z | \"I am a woman Babs, and th... | PrivateTest |\n",
       "| 4  |   1    | 20120826010752Z | \"WOW & YOU BENEFITTED SO M... | PrivateTest |\n",
       "| 5  |   1    | 20120602223825Z | \"haha green me red you now... | PrivateTest |\n",
       "| 6  |   0    | 20120603202442Z | \"\\nMe and God both hate-fa... | PrivateTest |\n",
       "| 7  |   1    | 20120603163604Z | \"Oh go kiss the ass of a g... | PrivateTest |\n",
       "| 8  |   0    | 20120602223902Z | \"Not a chance Kid, you're ... | PrivateTest |\n",
       "| 9  |   0    | 20120528064125Z | \"On Some real Shit FUck LI... | PrivateTest |\n",
       "| 10 |   1    | 20120603071243Z | \"ok but where the hell was... | PrivateTest |\n",
       "+----+--------+-----------------+-------------------------------+-------------+\n",
       "+-------------------------------+-----------------+-----------------+\n",
       "|         comment_clean         |  bad_word_ratio | good_word_ratio |\n",
       "+-------------------------------+-----------------+-----------------+\n",
       "|       [like, tribe, fan]      |       0.0       |  0.333333333333 |\n",
       "|         [your, idiot]         |       0.5       |       0.0       |\n",
       "| [woman, bab, war, women, s... |       0.0       |  0.111111111111 |\n",
       "| [wow, benefit, mani, win, ... |      0.125      |       0.25      |\n",
       "| [haha, green, red, loser, ... |  0.285714285714 |       0.0       |\n",
       "| [god, hatefaggot, what, di... |       0.0       |       0.0       |\n",
       "| [oh, go, kiss, ass, goatan... | 0.0714285714286 |       0.0       |\n",
       "|   [chanc, kid, your, wrong]   |       0.0       |       0.25      |\n",
       "| [real, shit, fuck, live, j... |       0.2       |       0.0       |\n",
       "| [ok, hell, releasedy, copi... | 0.0769230769231 |       0.0       |\n",
       "+-------------------------------+-----------------+-----------------+\n",
       "[2235 rows x 8 columns]\n",
       "Note: Only the head of the SFrame is printed.\n",
       "You can use print_rows(num_rows=m, num_columns=n) to print more rows and columns."
      ]
     },
     "execution_count": 6,
     "metadata": {},
     "output_type": "execute_result"
    }
   ],
   "source": [
    "def calculate_good_word_ratio(text):\n",
    "    #print text\n",
    "    num_words = len(text) if len(text) > 0 else 1\n",
    "    num_good_words = 0\n",
    "    good_wrd_ratio = 0\n",
    "    for word in text:\n",
    "        \n",
    "        if word in good_words:\n",
    "            num_good_words += 1\n",
    "    \n",
    "    good_wrd_ratio = float(num_good_words)/float(num_words)\n",
    "    return good_wrd_ratio\n",
    "\n",
    "data['good_word_ratio'] = data['comment_clean'].apply(calculate_good_word_ratio)\n",
    "#ratio = data['comment_clean'].apply(calculate_goodNdbadWord_ratio)\n",
    "#data['bad_word_ratio'] = ratio[0]\n",
    "#data['good_word_ratio'] = ratio[1]\n",
    "#print data[data['bad_word_ratio'] > 0]\n",
    "data"
   ]
  },
  {
   "cell_type": "markdown",
   "metadata": {},
   "source": [
    "# Cross Validation"
   ]
  },
  {
   "cell_type": "code",
   "execution_count": 7,
   "metadata": {
    "collapsed": false
   },
   "outputs": [],
   "source": [
    "import numpy as np\n",
    "train_data,test_data = data.random_split(.8)\n",
    "#feature_list = []\n",
    "X_train = (train_data.select_columns(['good_word_ratio', 'bad_word_ratio'])).to_numpy()\n",
    "y_train = (train_data['Insult']).to_numpy()\n",
    "X_data = (data.select_columns(['good_word_ratio', 'bad_word_ratio'])).to_numpy()\n",
    "y_data = (data['Insult']).to_numpy()"
   ]
  },
  {
   "cell_type": "code",
   "execution_count": 8,
   "metadata": {
    "collapsed": false
   },
   "outputs": [
    {
     "name": "stderr",
     "output_type": "stream",
     "text": [
      "/Users/swastika.b/Documents/Softwares/anaconda/envs/gl-env/lib/python2.7/site-packages/sklearn/cross_validation.py:41: DeprecationWarning: This module was deprecated in version 0.18 in favor of the model_selection module into which all the refactored classes and functions are moved. Also note that the interface of the new CV iterators are different from that of this module. This module will be removed in 0.20.\n",
      "  \"This module will be removed in 0.20.\", DeprecationWarning)\n"
     ]
    },
    {
     "data": {
      "text/plain": [
       "0.62371364653243844"
      ]
     },
     "execution_count": 8,
     "metadata": {},
     "output_type": "execute_result"
    }
   ],
   "source": [
    "from sklearn.linear_model import LogisticRegression\n",
    "from sklearn.cross_validation import cross_val_predict\n",
    "from sklearn import metrics\n",
    "lr = LogisticRegression(C=2)\n",
    "lr.fit(X_train,y_train)\n",
    "predicted = cross_val_predict(lr, X_data, y_data, cv=5)\n",
    "metrics.accuracy_score(y_data, predicted) "
   ]
  },
  {
   "cell_type": "markdown",
   "metadata": {},
   "source": [
    "# SVM Classifier"
   ]
  },
  {
   "cell_type": "code",
   "execution_count": 9,
   "metadata": {
    "collapsed": false
   },
   "outputs": [
    {
     "data": {
      "text/plain": [
       "0.62013422818791941"
      ]
     },
     "execution_count": 9,
     "metadata": {},
     "output_type": "execute_result"
    }
   ],
   "source": [
    "from sklearn.svm import LinearSVC\n",
    "#classifier_nb = LinearSVC(random_state=0, penalty=\"l1\", dual=False).fit(tfidf_transformed_text, data['Insult'])\n",
    "classifier_nb = LinearSVC(random_state=0).fit(X_train,y_train)\n",
    "predicted_svm = cross_val_predict(classifier_nb, X_data, y_data, cv=5)\n",
    "metrics.accuracy_score(y_data, predicted_svm) "
   ]
  },
  {
   "cell_type": "markdown",
   "metadata": {},
   "source": [
    "# Test data Accuracy"
   ]
  },
  {
   "cell_type": "code",
   "execution_count": 10,
   "metadata": {
    "collapsed": true
   },
   "outputs": [],
   "source": [
    "test1_data = gl.SFrame.read_csv(\"/Users/swastika.b/Documents/Swastika/SantaClaraEdu/courses/Machine Learning/Project/FinalCode/train.csv\",verbose= False)"
   ]
  },
  {
   "cell_type": "code",
   "execution_count": 11,
   "metadata": {
    "collapsed": true
   },
   "outputs": [],
   "source": [
    "test1_data['comment_clean'] = test1_data['Comment'].apply(transform_text)\n",
    "test1_data['bad_word_ratio'] = test1_data['comment_clean'].apply(calculate_bad_word_ratio)\n",
    "test1_data['good_word_ratio'] = test1_data['comment_clean'].apply(calculate_good_word_ratio)"
   ]
  },
  {
   "cell_type": "code",
   "execution_count": 12,
   "metadata": {
    "collapsed": false
   },
   "outputs": [
    {
     "data": {
      "text/plain": [
       "0.78996706359260194"
      ]
     },
     "execution_count": 12,
     "metadata": {},
     "output_type": "execute_result"
    }
   ],
   "source": [
    "test1_Xdata = (test1_data.select_columns(['good_word_ratio', 'bad_word_ratio'])).to_numpy()\n",
    "test1_Ydata = (test1_data['Insult']).to_numpy()\n",
    "\n",
    "predicted = lr.predict(test1_Xdata)\n",
    "metrics.accuracy_score(test1_Ydata, predicted) "
   ]
  },
  {
   "cell_type": "code",
   "execution_count": 13,
   "metadata": {
    "collapsed": false
   },
   "outputs": [
    {
     "data": {
      "text/plain": [
       "0.78946034963263234"
      ]
     },
     "execution_count": 13,
     "metadata": {},
     "output_type": "execute_result"
    }
   ],
   "source": [
    "predicted = classifier_nb.predict(test1_Xdata)\n",
    "metrics.accuracy_score(test1_Ydata, predicted) "
   ]
  }
 ],
 "metadata": {
  "kernelspec": {
   "display_name": "Python 2",
   "language": "python",
   "name": "python2"
  },
  "language_info": {
   "codemirror_mode": {
    "name": "ipython",
    "version": 2
   },
   "file_extension": ".py",
   "mimetype": "text/x-python",
   "name": "python",
   "nbconvert_exporter": "python",
   "pygments_lexer": "ipython2",
   "version": "2.7.11"
  }
 },
 "nbformat": 4,
 "nbformat_minor": 0
}
